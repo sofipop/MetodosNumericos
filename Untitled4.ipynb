{
  "nbformat": 4,
  "nbformat_minor": 0,
  "metadata": {
    "colab": {
      "provenance": [],
      "authorship_tag": "ABX9TyPX6zi7imhXXTesJ2+kPXyL",
      "include_colab_link": true
    },
    "kernelspec": {
      "name": "python3",
      "display_name": "Python 3"
    },
    "language_info": {
      "name": "python"
    }
  },
  "cells": [
    {
      "cell_type": "markdown",
      "metadata": {
        "id": "view-in-github",
        "colab_type": "text"
      },
      "source": [
        "<a href=\"https://colab.research.google.com/github/sofipop/MetodosNumericos/blob/Practica-4/Untitled4.ipynb\" target=\"_parent\"><img src=\"https://colab.research.google.com/assets/colab-badge.svg\" alt=\"Open In Colab\"/></a>"
      ]
    },
    {
      "cell_type": "code",
      "execution_count": 1,
      "metadata": {
        "id": "xTWz6t4GSFRS"
      },
      "outputs": [],
      "source": [
        "#MARTINEZ HERNANDEZ KAREN SOFIA\n",
        "from math import *\n",
        "import numpy as np\n"
      ]
    },
    {
      "cell_type": "code",
      "source": [
        "#PARA EL CODIGO USAREMOS EL EJERCICIO DEL LIBRO\n",
        "x=np.array([1.3,1.6])\n",
        "f=np.array([0.6200860, 0.4554022])\n",
        "d=np.array([-0.5220232, -0.5698959])\n",
        "n=(x.size)\n",
        "P=np.zeros((2*n,2*n))\n",
        "z=np.zeros(2*n)\n",
        "xi=1.5\n",
        "H=P[0,0]\n",
        "\n",
        "\n",
        "#CODIFICACION DEL METODO CON EL CODIGO\n",
        "for i in range(0,n):\n",
        "  z[2*i]=x[i]\n",
        "  z[2*i+1]=x[i]\n",
        "  P[2*i,0]=f[i]\n",
        "  P[2*i+1,0]=f[i]\n",
        "  P[2*i+1,1]=d[i]\n",
        "  if i !=0:\n",
        "    P[2*i,1]=(P[2*i,0]-P[2*i-1,0])/(z[2*i]-z[2*i-1])\n",
        "\n",
        "for i in range(2,2*n):\n",
        "  for j in range(2,i+1):\n",
        "    P[i,j]=(P[i,j-1]-P[i-1,j-1])/(z[i]-z[i-j])\n",
        "\n",
        "m=z.size\n",
        "x0=1\n",
        "A=P[0,0]\n",
        "for k in range (1,m) :\n",
        "  x0= x0*( xi- z[k-1])\n",
        "  A= A +P[k,k] * x0\n",
        "\n",
        "print (\"El valor\",xi,\"interpolado es : \", A)\n"
      ],
      "metadata": {
        "colab": {
          "base_uri": "https://localhost:8080/"
        },
        "id": "2p5d2MPZSPBW",
        "outputId": "5a62ca26-e4c0-4bb2-9989-8154a1a4b0a5"
      },
      "execution_count": 3,
      "outputs": [
        {
          "output_type": "stream",
          "name": "stdout",
          "text": [
            "El valor 1.5 interpolado es :  0.5118261911111112\n"
          ]
        }
      ]
    }
  ]
}