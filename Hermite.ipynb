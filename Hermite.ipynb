{
  "metadata": {
    "language_info": {
      "name": ""
    },
    "kernelspec": {
      "name": "python",
      "display_name": "Python (Pyodide)",
      "language": "python"
    }
  },
  "nbformat_minor": 4,
  "nbformat": 4,
  "cells": [
    {
      "cell_type": "code",
      "source": "#MARTINEZ HERNANDEZ KAREN SOFIA\nfrom math import *\nimport numpy as np\n\n\nx=np.array([1.3,1.6])   \nf=np.array([0.6200860, 0.4554022])   \nd=np.array([-0.5220232, -0.5698959])\nn=(x.size)\nP=np.zeros((2*n,2*n))\nz=np.zeros(2*n)\nxi=1.5   \nH=P[0,0]\n\nfor i in range(0,n):\n  z[2*i]=x[i]\n  z[2*i+1]=x[i]\n  P[2*i,0]=f[i]\n  P[2*i+1,0]=f[i]\n  P[2*i+1,1]=d[i]\n  if i !=0:\n    P[2*i,1]=(P[2*i,0]-P[2*i-1,0])/(z[2*i]-z[2*i-1])\n\nfor i in range(2,2*n):\n  for j in range(2,i+1):\n    P[i,j]=(P[i,j-1]-P[i-1,j-1])/(z[i]-z[i-j])\n\nm=z.size\nx0=1\nA=P[0,0]\nfor k in range (1,m) :\n  x0= x0*( xi- z[k-1])\n  A= A +P[k,k] * x0\n\nprint (\"El valor\",xi,\"interpolado es : \", A)",
      "metadata": {
        "trusted": true
      },
      "execution_count": null,
      "outputs": []
    },
    {
      "cell_type": "code",
      "source": "",
      "metadata": {},
      "execution_count": null,
      "outputs": []
    }
  ]
}