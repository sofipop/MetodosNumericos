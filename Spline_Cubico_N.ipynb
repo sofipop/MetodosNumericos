{
  "nbformat": 4,
  "nbformat_minor": 0,
  "metadata": {
    "colab": {
      "provenance": [],
      "authorship_tag": "ABX9TyOeLKSDP9aZ7CxYrn83G8Hz",
      "include_colab_link": true
    },
    "kernelspec": {
      "name": "python3",
      "display_name": "Python 3"
    },
    "language_info": {
      "name": "python"
    }
  },
  "cells": [
    {
      "cell_type": "markdown",
      "metadata": {
        "id": "view-in-github",
        "colab_type": "text"
      },
      "source": [
        "<a href=\"https://colab.research.google.com/github/sofipop/MetodosNumericos/blob/Aplicaciones/Spline_Cubico_N.ipynb\" target=\"_parent\"><img src=\"https://colab.research.google.com/assets/colab-badge.svg\" alt=\"Open In Colab\"/></a>"
      ]
    },
    {
      "cell_type": "code",
      "execution_count": 1,
      "metadata": {
        "id": "7Eyx3DY4LVZp"
      },
      "outputs": [],
      "source": [
        "from math import *\n",
        "import numpy as np\n",
        "import matplotlib . pyplot as plt\n",
        ""
      ]
    },
    {
      "cell_type": "code",
      "source": [
        "xi = np.array ([0,1,2,3])\n",
        "fi=np.array([1,e,e**2,e**3])\n",
        "ni=(xi.size)\n",
        "n=ni-1\n",
        "A= np.zeros (ni)\n",
        "a=np.zeros(n)\n",
        "A[:]= fi"
      ],
      "metadata": {
        "id": "iZ6slC6aLYDR"
      },
      "execution_count": 2,
      "outputs": []
    },
    {
      "cell_type": "code",
      "source": [
        "s=np.zeros(n)\n",
        "for i in range(0,n):\n",
        "  s[i]=xi[i+1]-xi[i]\n",
        "for j in range(0,n):\n",
        "  a[j]=(3*(A[j+1]-A[j]))/s[j]-(3*(A[j]-A[j-1]))/s[j-1]\n",
        "\n",
        "l=np.zeros(n)\n",
        "h=np.zeros(n)\n",
        "z=np.zeros(n)\n",
        "l[0]=1\n",
        "for k in range(1,n-1):\n",
        "  l[k]=2*(xi[k+1]-xi[k-1])-s[k-1]*h[k-1]\n",
        "  h[k]=s[k]/l[k]\n",
        "  z[k]=(a[k]-s[k-1]*z[k-1])/l[k]\n",
        "l[n-1]=1\n",
        "\n",
        "d=np.zeros(n)\n",
        "b=np.zeros(n)\n",
        "c=np.zeros(ni)\n",
        "c[1]=0.75685\n",
        "c[2]=5.83007\n",
        "for t in range(0,n):\n",
        "  b[t]=(A[t+1]-A[t])/s[t]-(s[t]*(c[t+1]+2*c[t]))/3\n",
        "  d[t]=(c[t+1]-c[t])/(3*s[t])\n",
        "\n",
        "print(\" spline cubico natural a tramos, Sn(x):\")\n",
        "for i in range(0,n):\n",
        "  print(A[i],'+',b[i],'(x -',xi[i],')+',c[i],'(x -',xi[i],')^2+',d[i],'(x -',xi[i],')^3, en ',xi[i],'- x <',xi[i+1])"
      ],
      "metadata": {
        "colab": {
          "base_uri": "https://localhost:8080/"
        },
        "id": "XdKE6npFLg_Z",
        "outputId": "63fe6f80-7f70-42a9-9aac-34f1cb12662c"
      },
      "execution_count": 4,
      "outputs": [
        {
          "output_type": "stream",
          "name": "stdout",
          "text": [
            " spline cubico natural a tramos, Sn(x):\n",
            "1.0 + 1.4659984951257117 (x - 0 )+ 0.0 (x - 0 )^2+ 0.25228333333333336 (x - 0 )^3, en  0 - x < 1\n",
            "2.718281828459045 + 2.2228509371382708 (x - 1 )+ 0.75685 (x - 1 )^2+ 1.6910733333333334 (x - 1 )^3, en  1 - x < 2\n",
            "7.3890560989306495 + 8.809767490923683 (x - 2 )+ 5.83007 (x - 2 )^2+ -1.9433566666666666 (x - 2 )^3, en  2 - x < 3\n"
          ]
        }
      ]
    }
  ]
}