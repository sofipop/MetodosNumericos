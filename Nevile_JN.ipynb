{
  "metadata": {
    "language_info": {
      "name": ""
    },
    "kernelspec": {
      "name": "python",
      "display_name": "Python (Pyodide)",
      "language": "python"
    }
  },
  "nbformat_minor": 4,
  "nbformat": 4,
  "cells": [
    {
      "cell_type": "code",
      "source": "#MARTINEZ HERNANDEZ KAREN SOFIA\nfrom sympy import *\nimport numpy as np\ndef interpolacionNeville(x, xn, Q):\n    n = len(xn) - 1\n    # Creamos una tabla\n    Q = [[0] * (n+1) for _ in range(n+1)]  \n    for i in range(n+1):\n        Q[i][0] = Q[i][i] = Q[i][i-1] = f(xn[i])  \n        for j in range(1, i):\n            Q[i][j] = ((x - xn[i-j]) * Q[i][j-1] - (x - xn[i]) * Q[i-1][j-1]) / (xn[i] - xn[i-j])\n    return Q\ndef f(x):\n    return np.log(x) \n#EJEMPLO CON EL EJERCICIO DE CLASE 1/JUN23\nx = 1.5  # Punto en el que se va interpolar\nxn = [1.0,1.3,1.6,1.9,2.2]  # Valores de x (x0, x1, x2,x3,x4)\nQ = [[0] * len(xn) for _ in range(len(xn))]  # Tabla Q \ntabla_Q = interpolacion_neville(x, xn, Q)\nresultado = tabla_Q[-1][-1]  \n\nprint(\"Por el metodo de NEVILLE, la interpolación en x =\", x, \"es\", resultado)\nprint(\"Tabla de diferencias comoleta:\")\nfor fila in tabla_Q:\n    print(fila)",
      "metadata": {
        "trusted": true
      },
      "execution_count": null,
      "outputs": []
    }
  ]
}