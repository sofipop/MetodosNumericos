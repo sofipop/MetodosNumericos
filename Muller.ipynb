{
  "nbformat": 4,
  "nbformat_minor": 0,
  "metadata": {
    "colab": {
      "provenance": [],
      "authorship_tag": "ABX9TyNQKDS33oON05r9CII1lqEl",
      "include_colab_link": true
    },
    "kernelspec": {
      "name": "python3",
      "display_name": "Python 3"
    },
    "language_info": {
      "name": "python"
    }
  },
  "cells": [
    {
      "cell_type": "markdown",
      "metadata": {
        "id": "view-in-github",
        "colab_type": "text"
      },
      "source": [
        "<a href=\"https://colab.research.google.com/github/sofipop/MetodosNumericos/blob/Practica-2/Muller.ipynb\" target=\"_parent\"><img src=\"https://colab.research.google.com/assets/colab-badge.svg\" alt=\"Open In Colab\"/></a>"
      ]
    },
    {
      "cell_type": "code",
      "execution_count": 1,
      "metadata": {
        "id": "LUUQhbw-rqE2"
      },
      "outputs": [],
      "source": [
        "from math import *\n",
        "import numpy as np"
      ]
    },
    {
      "cell_type": "code",
      "source": [
        "def f1(x):\n",
        "    return x**3 + 4*x**2 - 10\n",
        "\n",
        "def df1(x):\n",
        "    return 3*x**2+ 8*x"
      ],
      "metadata": {
        "id": "D9JqcAtKrsfn"
      },
      "execution_count": 2,
      "outputs": []
    },
    {
      "cell_type": "code",
      "source": [
        "#programa principal\n",
        "tol=0.000000001\n",
        "nmax=20\n",
        "h=100\n",
        "error=100\n",
        "# valores iniciales\n",
        "p0=0.5\n",
        "p1=-0.5\n",
        "p2=0\n",
        "h1=p1-p0\n",
        "h2=p2-p1\n",
        "g1=( f1(p1)- f1(p0) )/h1\n",
        "g2=( f1(p2)- f1(p1))/h2\n",
        "d=(g2 - g1)/(h2+h1)\n",
        "niter=3\n",
        "\n",
        "print(\"# iter  \\t\\t P  \\t\\t\\t error\")\n",
        "\n",
        "#contador de iteraciones\n",
        "while abs(h) > tol and niter<= nmax:\n",
        "  b= g2 + h2*d\n",
        "  D=(b**2 -4*f1(p2)*d)**(1/2)\n",
        "\n",
        "  if abs(b-D)<abs(b+D):\n",
        "    E= b+D\n",
        "  else:\n",
        "    E=b-D\n",
        "\n",
        "  h=-2*f1(p2)/E\n",
        "  p=p2+h\n",
        "  error= abs(p- p2)\n",
        "  #Se determinan nuevos valores\n",
        "  p0=p1\n",
        "  p1=p2\n",
        "  p2=p\n",
        "  h1=p1-p0\n",
        "  h2=p2-p1\n",
        "  g1=( f1(p1)- f1(p0) )/h1\n",
        "  g2=( f1(p2)- f1(p1))/h2\n",
        "  d=(g2 - g1  )/(h2+h1)\n",
        "  print(\"{0} \\t\\t {1:6.6f} \\t {2:15.6f}\".format(niter, p,error ))\n",
        "  niter+=1\n",
        "\n",
        "print(\"La raiz apriximada es {0:6.9f}\".format(p))"
      ],
      "metadata": {
        "colab": {
          "base_uri": "https://localhost:8080/"
        },
        "id": "IK7v95uprxUM",
        "outputId": "53bdd9fd-7561-4adf-8d05-45366f85f864"
      },
      "execution_count": 3,
      "outputs": [
        {
          "output_type": "stream",
          "name": "stdout",
          "text": [
            "# iter  \t\t P  \t\t\t error\n",
            "3 \t\t 1.550198 \t        1.550198\n",
            "4 \t\t 1.332519 \t        0.217679\n",
            "5 \t\t 1.364736 \t        0.032217\n",
            "6 \t\t 1.365230 \t        0.000494\n",
            "7 \t\t 1.365230 \t        0.000000\n",
            "8 \t\t 1.365230 \t        0.000000\n",
            "La raiz apriximada es 1.365230013\n"
          ]
        }
      ]
    }
  ]
}