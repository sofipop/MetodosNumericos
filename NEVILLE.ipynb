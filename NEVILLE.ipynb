{
  "nbformat": 4,
  "nbformat_minor": 0,
  "metadata": {
    "colab": {
      "provenance": [],
      "authorship_tag": "ABX9TyOdjBU9DpJTZyC+LCyizXq5",
      "include_colab_link": true
    },
    "kernelspec": {
      "name": "python3",
      "display_name": "Python 3"
    },
    "language_info": {
      "name": "python"
    }
  },
  "cells": [
    {
      "cell_type": "markdown",
      "metadata": {
        "id": "view-in-github",
        "colab_type": "text"
      },
      "source": [
        "<a href=\"https://colab.research.google.com/github/sofipop/MetodosNumericos/blob/main/NEVILLE.ipynb\" target=\"_parent\"><img src=\"https://colab.research.google.com/assets/colab-badge.svg\" alt=\"Open In Colab\"/></a>"
      ]
    },
    {
      "cell_type": "code",
      "execution_count": 11,
      "metadata": {
        "id": "vVMS8xRHsvfi"
      },
      "outputs": [],
      "source": [
        "#MARTINEZ HERNANDEZ KAREN SOFIA\n",
        "from sympy import *\n",
        "import numpy as np"
      ]
    },
    {
      "cell_type": "code",
      "source": [
        "def interpolacionNeville(x, xn, Q):\n",
        "    n = len(xn) - 1\n",
        "    # Creamos una tabla\n",
        "    Q = [[0] * (n+1) for _ in range(n+1)]\n",
        "    for i in range(n+1):\n",
        "        Q[i][0] = Q[i][i] = Q[i][i-1] = f(xn[i])\n",
        "        for j in range(1, i):\n",
        "            Q[i][j] = ((x - xn[i-j]) * Q[i][j-1] - (x - xn[i]) * Q[i-1][j-1]) / (xn[i] - xn[i-j])\n",
        "    return Q"
      ],
      "metadata": {
        "id": "WMYw0l0XtAzX"
      },
      "execution_count": 2,
      "outputs": []
    },
    {
      "cell_type": "code",
      "source": [
        "def f(x):\n",
        "    return np.log(x)"
      ],
      "metadata": {
        "id": "0kKM_o1atPhu"
      },
      "execution_count": 3,
      "outputs": []
    },
    {
      "cell_type": "code",
      "source": [
        "#EJEMPLO CON EL EJERCICIO DE CLASE 1/JUN23\n",
        "x = 1.5  # Punto en el que se va interpolar\n",
        "xn = [1.0,1.3,1.6,1.9,2.2]  # Valores de x (x0, x1, x2,x3,x4)\n",
        "Q = [[0] * len(xn) for _ in range(len(xn))]  # Tabla Q\n",
        "tabla_Q = interpolacion_neville(x, xn, Q)\n",
        "resultado = tabla_Q[-1][-1]\n",
        "\n",
        "print(\"Por el metodo de NEVILLE, la interpolación en x =\", x, \"es\", resultado)\n",
        "print(\"Tabla de diferencias comoleta:\")\n",
        "for fila in tabla_Q:\n",
        "    print(fila)"
      ],
      "metadata": {
        "colab": {
          "base_uri": "https://localhost:8080/"
        },
        "id": "n74xI8ZrvvM1",
        "outputId": "a4710daa-46bc-4d05-bbf7-5fb5e603f165"
      },
      "execution_count": 10,
      "outputs": [
        {
          "output_type": "stream",
          "name": "stdout",
          "text": [
            "Por el metodo de NEVILLE, la interpolación en x = 1.5 es 0.7884573603642703\n",
            "Tabla de diferencias comoleta:\n",
            "[0.0, 0, 0, 0, 0.0]\n",
            "[0.26236426446749106, 0.26236426446749106, 0, 0, 0]\n",
            "[0.47000362924573563, 0.4007905076529874, 0.47000362924573563, 0, 0]\n",
            "[0.6418538861723947, 0.4127202102701825, 0.40476707519205246, 0.6418538861723947, 0]\n",
            "[0.7884573603642703, 0.44638258724989405, 0.4071098141068972, 0.40528768383979574, 0.7884573603642703]\n"
          ]
        }
      ]
    }
  ]
}