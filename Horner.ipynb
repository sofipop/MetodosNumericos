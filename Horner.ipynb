{
  "nbformat": 4,
  "nbformat_minor": 0,
  "metadata": {
    "colab": {
      "provenance": [],
      "authorship_tag": "ABX9TyO609LG7f7eQ4qXxSOe0cF3",
      "include_colab_link": true
    },
    "kernelspec": {
      "name": "python3",
      "display_name": "Python 3"
    },
    "language_info": {
      "name": "python"
    }
  },
  "cells": [
    {
      "cell_type": "markdown",
      "metadata": {
        "id": "view-in-github",
        "colab_type": "text"
      },
      "source": [
        "<a href=\"https://colab.research.google.com/github/sofipop/MetodosNumericos/blob/Practica-2/Horner.ipynb\" target=\"_parent\"><img src=\"https://colab.research.google.com/assets/colab-badge.svg\" alt=\"Open In Colab\"/></a>"
      ]
    },
    {
      "cell_type": "code",
      "execution_count": 1,
      "metadata": {
        "id": "6scmMZuMqhzf"
      },
      "outputs": [],
      "source": [
        "def div(Datos, x):\n",
        "  a = [Datos[0]]\n",
        "  for i in range(len(Datos) - 1):\n",
        "    a.append(Datos[i + 1] + a[i] * x)\n",
        "  return a\n",
        ""
      ]
    },
    {
      "cell_type": "code",
      "source": [
        "poli = []\n",
        "n = int(input(\"Grado del  polinomio :\"))\n",
        "for i in range(n + 1):\n",
        "  poli.append(float(input(f\"coeficiente de x^{n - i}: \")))\n",
        "u = float(input(\"Tolerancia: \"))\n",
        "error = float(input(\"Error :\"))\n",
        "b, l = 1, 0\n",
        "print(f\"n \\t\\t P \\t\\t\\t Error\")\n",
        "while b > error:\n",
        "  print(f\"{l} \\t{u} \\t{b}\")\n",
        "  l += 1\n",
        "  t = u\n",
        "  f = div(poli,u)\n",
        "  u -= f[n] / div(f,u)[n - 1]\n",
        "  b = abs(t-u)\n",
        "print(f\"\\n La raíz  es aproximadamente {u}\")\n",
        "print(f\"El error es de {error}\")"
      ],
      "metadata": {
        "colab": {
          "base_uri": "https://localhost:8080/"
        },
        "id": "wh9k3tuiqwfN",
        "outputId": "3b5239c7-5993-4988-a107-71122a8f8afc"
      },
      "execution_count": 2,
      "outputs": [
        {
          "output_type": "stream",
          "name": "stdout",
          "text": [
            "Grado del  polinomio4\n",
            "coeficiente de x^4: 2\n",
            "coeficiente de x^3: 0\n",
            "coeficiente de x^2: -3\n",
            "coeficiente de x^1: 3\n",
            "coeficiente de x^0: -4\n",
            "Tolerancia-2\n",
            "Error 0.00001\n",
            "n \t\t P \t\t\t Error\n",
            "0 \t-2.0 \t1\n",
            "1 \t-1.7959183673469388 \t0.20408163265306123\n",
            "2 \t-1.7424329167505421 \t0.053485450596396644\n",
            "3 \t-1.7389702353361667 \t0.003462681414375446\n",
            "4 \t-1.7389562566790493 \t1.3978657117386106e-05\n",
            "\n",
            " La raíz  es aproximadamente -1.738956256451892\n",
            "El error es de 1e-05\n"
          ]
        }
      ]
    }
  ]
}