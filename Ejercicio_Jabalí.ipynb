{
  "nbformat": 4,
  "nbformat_minor": 0,
  "metadata": {
    "colab": {
      "provenance": [],
      "authorship_tag": "ABX9TyOH9fZiFpMX7R9/ajTx/WRP",
      "include_colab_link": true
    },
    "kernelspec": {
      "name": "python3",
      "display_name": "Python 3"
    },
    "language_info": {
      "name": "python"
    }
  },
  "cells": [
    {
      "cell_type": "markdown",
      "metadata": {
        "id": "view-in-github",
        "colab_type": "text"
      },
      "source": [
        "<a href=\"https://colab.research.google.com/github/sofipop/MetodosNumericos/blob/Aplicaciones/Ejercicio_Jabal%C3%AD.ipynb\" target=\"_parent\"><img src=\"https://colab.research.google.com/assets/colab-badge.svg\" alt=\"Open In Colab\"/></a>"
      ]
    },
    {
      "cell_type": "code",
      "execution_count": 1,
      "metadata": {
        "id": "U62EQBBEE_fr"
      },
      "outputs": [],
      "source": [
        "from math import *\n",
        "import numpy as np\n",
        "import matplotlib . pyplot as plt\n",
        "from scipy.interpolate import CubicSpline\n",
        "import pandas as pd"
      ]
    },
    {
      "cell_type": "code",
      "source": [
        "p0 = 0.5\n",
        "tol = 0.0000001\n",
        "n = 10\n",
        "def f1(x):\n",
        "  f = 30*x - 1 +(1-26*x)*(np.exp(x))\n",
        "  return (f)\n",
        "\n",
        "def f2(x):\n",
        "  h = 30 - (25 + 26*x)*(np.exp(x))\n",
        "  return (h)\n",
        "\n",
        "def f3(x):\n",
        "  g = -(51+26*x)*(np.exp(x))\n",
        "  return (g)\n",
        "print(\"INCISO a)\")\n",
        "print(\"n \\t kn \\t\\t f(kn) \\t\\t f'(kn) \\t f''(kn)\")\n",
        "print(\"0 \\t {1:6.6f} \\t {2:6.6f} \\t {3:6.6f} \\t {4:6.6f}\".format(0,p0,f1(p0),f2(p0),f3(p0)))\n",
        "i = 1\n",
        "while i<=n:\n",
        "  p = p0 - f1(p0)/f2(p0)\n",
        "\n",
        "  if abs(p-p0) < tol:\n",
        "    break\n",
        "\n",
        "  p0 = p\n",
        "  print(\"{0} \\t {1:6.6f} \\t {2:6.6f} \\t {3:6.6f} \\t {4:6.6f}\".format(i,p0,f1(p0),f2(p0),f3(p0)))\n",
        "  i = i+1\n",
        "\n"
      ],
      "metadata": {
        "colab": {
          "base_uri": "https://localhost:8080/"
        },
        "id": "K_CLX_05G_WE",
        "outputId": "0a256858-bc95-4ed8-d886-cce3ac8b541d"
      },
      "execution_count": 6,
      "outputs": [
        {
          "output_type": "stream",
          "name": "stdout",
          "text": [
            "INCISO a)\n",
            "n \t kn \t\t f(kn) \t\t f'(kn) \t f''(kn)\n",
            "0 \t 0.500000 \t -5.784655 \t -32.651408 \t -105.518161\n",
            "1 \t 0.322836 \t -1.525956 \t -16.118044 \t -82.025052\n",
            "2 \t 0.228162 \t -0.351425 \t -8.859806 \t -71.523322\n",
            "3 \t 0.188497 \t -0.055195 \t -6.103384 \t -67.496659\n",
            "4 \t 0.179454 \t -0.002748 \t -5.497020 \t -66.607676\n",
            "5 \t 0.178954 \t -0.000008 \t -5.463736 \t -66.558845\n",
            "6 \t 0.178952 \t -0.000000 \t -5.463635 \t -66.558696\n"
          ]
        }
      ]
    },
    {
      "cell_type": "code",
      "source": [
        "#INCISO B)\n",
        "p1 = -1\n",
        "tol = 0.000000001\n",
        "n = 10\n",
        "def g1(x):\n",
        "  k=0.178952\n",
        "  j = (37*k-1+k*x)*(np.exp(k*x))-30*k + 1\n",
        "  return (j)\n",
        "\n",
        "def g2(x):\n",
        "  k=0.178952\n",
        "  m = (37*(k**2) + (k**2)*x)*(np.exp(k*x))\n",
        "  return (m)\n",
        "\n",
        "def g3(x):\n",
        "  k=0.178952\n",
        "  r = (37*(k**3) + k**2 + (k**3)*k)*(np.exp(k*x))\n",
        "  return (r)\n",
        "print(\"\")\n",
        "print(\" INCISO b)\")\n",
        "print(\"n \\t tn \\t\\t g(tn) \\t\\t g'(tn) \\t g''(tn)\")\n",
        "print(\"0 \\t {1:6.6f} \\t {2:6.6f} \\t {3:6.6f} \\t {4:6.6f}\".format(0,p1,g1(p1),g2(p1),g3(p1)))\n",
        "i = 1\n",
        "while i<=n:\n",
        "  t = p1 - g1(p1)/g2(p1)\n",
        "\n",
        "  if abs(t-p1) < tol:\n",
        "    break\n",
        "\n",
        "  p1 = t\n",
        "  print(\"{0} \\t {1:6.7f} \\t {2:6.7f} \\t {3:6.7f} \\t {4:6.7f}\".format(i,p1,g1(p1),g2(p1),g3(p1)))\n",
        "  i = i+1"
      ],
      "metadata": {
        "colab": {
          "base_uri": "https://localhost:8080/"
        },
        "id": "Pl69Q1i8H19S",
        "outputId": "11c6df34-d6e1-4308-de28-586ad56313e9"
      },
      "execution_count": 5,
      "outputs": [
        {
          "output_type": "stream",
          "name": "stdout",
          "text": [
            "\n",
            " INCISO b)\n",
            "n \t tn \t\t g(tn) \t\t g'(tn) \t g''(tn)\n",
            "0 \t -1.000000 \t 0.181974 \t 0.963957 \t 0.204928\n",
            "1 \t -1.1887782 \t 0.0035059 \t 0.9270495 \t 0.1981206\n",
            "2 \t -1.1925601 \t 0.0000014 \t 0.9263245 \t 0.1979865\n",
            "3 \t -1.1925615 \t 0.0000000 \t 0.9263242 \t 0.1979865\n"
          ]
        }
      ]
    }
  ]
}