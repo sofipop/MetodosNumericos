{
  "nbformat": 4,
  "nbformat_minor": 0,
  "metadata": {
    "colab": {
      "provenance": [],
      "authorship_tag": "ABX9TyM7pmv1YBaHTtwvvgTLVwla",
      "include_colab_link": true
    },
    "kernelspec": {
      "name": "python3",
      "display_name": "Python 3"
    },
    "language_info": {
      "name": "python"
    }
  },
  "cells": [
    {
      "cell_type": "markdown",
      "metadata": {
        "id": "view-in-github",
        "colab_type": "text"
      },
      "source": [
        "<a href=\"https://colab.research.google.com/github/sofipop/MetodosNumericos/blob/Practica3/DiferenciasDeNewton.ipynb\" target=\"_parent\"><img src=\"https://colab.research.google.com/assets/colab-badge.svg\" alt=\"Open In Colab\"/></a>"
      ]
    },
    {
      "cell_type": "code",
      "execution_count": 1,
      "metadata": {
        "id": "JeGM5kv5yF1i"
      },
      "outputs": [],
      "source": [
        "#MARTINEZ HERNANDEZ KAREN SOFIA\n",
        "from math import *\n",
        "import numpy as np"
      ]
    },
    {
      "cell_type": "code",
      "source": [
        "\n",
        "x = np.array ([1, 1.3 ,1.6 ,1.9])\n",
        "f = np.array ([0.7651977, 0.6200860, 0.4554022, 0.2818186])\n",
        "n = x.size\n",
        "F= np.zeros (( n , n ) )\n",
        "F[:,0]= f\n",
        "#Interpolamos el valor de f(xi)\n",
        "xi =1.5\n",
        "y0 = F[0 , 0]\n",
        "\n",
        "for i in range (0, n ):\n",
        "  for j in range (1,  i+1) :\n",
        "     F[i,j]=(F[i , j-1] - F[i-1, j-1]) / ( x[i] - x[ i-j ])\n",
        "\n",
        "x0=1\n",
        "for k in range (1,n) :\n",
        "  x0= x0*( xi - x[k-1])\n",
        "  y0= y0 + F[k,k] * x0\n",
        "\n",
        "print (\"El valor del polinomio evaluado en \",xi,\"es: \", y0 )\n",
        "\n",
        ""
      ],
      "metadata": {
        "colab": {
          "base_uri": "https://localhost:8080/"
        },
        "id": "NF14LT-Uy58r",
        "outputId": "5783492e-f4ac-488a-9a1d-7e64c57d59d8"
      },
      "execution_count": 15,
      "outputs": [
        {
          "output_type": "stream",
          "name": "stdout",
          "text": [
            "El valor del polinomio evaluado en  1.5 es:  0.5118126938271607\n"
          ]
        }
      ]
    }
  ]
}