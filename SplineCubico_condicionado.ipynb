{
  "nbformat": 4,
  "nbformat_minor": 0,
  "metadata": {
    "colab": {
      "provenance": [],
      "authorship_tag": "ABX9TyOXFiybN70/+267+o0c4oNT",
      "include_colab_link": true
    },
    "kernelspec": {
      "name": "python3",
      "display_name": "Python 3"
    },
    "language_info": {
      "name": "python"
    }
  },
  "cells": [
    {
      "cell_type": "markdown",
      "metadata": {
        "id": "view-in-github",
        "colab_type": "text"
      },
      "source": [
        "<a href=\"https://colab.research.google.com/github/sofipop/MetodosNumericos/blob/Practica-5/SplineCubico_condicionado.ipynb\" target=\"_parent\"><img src=\"https://colab.research.google.com/assets/colab-badge.svg\" alt=\"Open In Colab\"/></a>"
      ]
    },
    {
      "cell_type": "code",
      "execution_count": 1,
      "metadata": {
        "id": "sFpamxUrTYoC"
      },
      "outputs": [],
      "source": [
        "#MARTINEZ HERNANDEZ KAREN SOFIA\n",
        "from math import *\n",
        "import numpy as np\n",
        "import matplotlib . pyplot as plt\n"
      ]
    },
    {
      "cell_type": "code",
      "source": [
        "x = np.array ([0,1,2,3])\n",
        "f=np.array([1,e,e**2,e**3])\n",
        "FP0=1\n",
        "nui=(x.size)\n",
        "P= np.zeros (nui)\n",
        "n=nui-1\n",
        "a=np.zeros(n)\n",
        "P[:]= f\n",
        "FPN=e**3\n",
        "h=np.zeros(n)\n",
        "for i in range(0,n):\n",
        "  h[i]=x[i+1]-x[i]\n",
        "a[0]=3*(P[1]-P[0])/h[0]-3*FP0\n",
        "a[n-1]=3*FPN-3*(P[n]-P[n-1])/h[n-1]\n",
        "\n",
        "for j in range(1,n-1):\n",
        "  a[j]=(3/h[j])*(P[j+1]-P[j])-(3/h[j-1])*(P[j]-P[j-1])\n",
        "l=np.zeros(n)\n",
        "mu=np.zeros(n)\n",
        "z=np.zeros(n)\n",
        "l[0]=2*h[0]\n",
        "mu[0]=0.5\n",
        "z[0]=a[0]/l[0]\n",
        "\n",
        "for k in range(1,n-1):\n",
        "  l[k]=2*(x[k+1]-x[k-1])-h[k-1]*mu[k-1]\n",
        "  mu[k]=h[k]/l[k]\n",
        "  z[k]=(a[k]-h[k-1]*z[k-1])/l[k]\n",
        "l[n-1]=h[n-1]*(2-mu[n-1])\n",
        "z[n-1]=(a[n-1]-h[n-1]*z[n-2])/l[n-1]\n",
        "\n",
        "r=np.zeros(nui)\n",
        "s=np.zeros(n)\n",
        "o=np.zeros(n)\n",
        "r[n-1]=z[n-1]\n",
        "r[0]=0.44468\n",
        "r[1]=1.26548\n",
        "r[2]=3.35087\n",
        "r[3]=9.40815\n",
        "\n",
        "for k in range(n-2,-1,-1):\n",
        "  r[k]=z[k]-mu[k]*r[k+1]\n",
        "for t in range(0,n):\n",
        "  s[t]=(P[t+1]-P[t])/h[t]-(h[t]*(r[t+1]+2*r[t]))/3\n",
        "  o[t]=(r[t+1]-r[t])/(3*h[t])\n",
        "print(\"spline cubico \")\n",
        "for i in range(0,n):\n",
        "  print(P[i],'+',s[i],'(x-',x[i],')+',r[i],'(x-',x[i],')^2+',o[i],'(x-',x[i],')^3, si  ',x[i],',< x <',x[i+1])\n"
      ],
      "metadata": {
        "colab": {
          "base_uri": "https://localhost:8080/"
        },
        "id": "Ae2dMsH5UvQi",
        "outputId": "48417d49-b9a3-43ee-a5a4-3b1541719f08"
      },
      "execution_count": 4,
      "outputs": [
        {
          "output_type": "stream",
          "name": "stdout",
          "text": [
            "spline cubico \n",
            "1.0 + 0.9999999999999999 (x- 0 )+ 0.44468208792440955 (x- 0 )^2+ 0.2735997405346357 (x- 0 )^3, si   0 ,< x < 1\n",
            "2.718281828459045 + 2.7101633974527264 (x- 1 )+ 1.2654813095283166 (x- 1 )^2+ 0.6951295634905611 (x- 1 )^3, si   1 ,< x < 2\n",
            "7.3890560989306495 + 7.326517490923682 (x- 2 )+ 3.35087 (x- 2 )^2+ 2.0190933333333327 (x- 2 )^3, si   2 ,< x < 3\n"
          ]
        }
      ]
    }
  ]
}